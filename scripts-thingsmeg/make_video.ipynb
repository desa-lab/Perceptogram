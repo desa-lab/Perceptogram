{
 "cells": [
  {
   "cell_type": "code",
   "execution_count": 14,
   "metadata": {},
   "outputs": [],
   "source": [
    "import cv2\n",
    "import os\n",
    "import numpy as np"
   ]
  },
  {
   "cell_type": "code",
   "execution_count": 2,
   "metadata": {},
   "outputs": [],
   "source": [
    "# Define the path to the image directory\n",
    "# image_folder = 'cache/thingsmeg_stimuli/test_images1b'\n",
    "image_folder = 'cache/thingsmeg_stimuli/avg_test_images1b'\n",
    "video_name = 'cache/video.mp4'\n",
    "\n",
    "# Get a list of all the image files in the directory\n",
    "images = [img for img in os.listdir(image_folder) if img.endswith(\".png\")]\n",
    "# Sort the images by name (assuming the names are numbers)\n",
    "images.sort(key=lambda x: int(os.path.splitext(x)[0]))"
   ]
  },
  {
   "cell_type": "code",
   "execution_count": 3,
   "metadata": {},
   "outputs": [],
   "source": [
    "# Define the path to the second image directory\n",
    "# image_folder2 = 'results/versatile_diffusion1b/BIGMEG1'\n",
    "image_folder2 = 'results/avg_versatile_diffusion1balltokens/BIGMEG1'\n",
    "\n",
    "# Get a list of all the image files in the second directory\n",
    "images2 = [img for img in os.listdir(image_folder2) if img.endswith(\".png\")]\n",
    "# Sort the images by name (assuming the names are numbers)\n",
    "images2.sort(key=lambda x: int(os.path.splitext(x)[0]))"
   ]
  },
  {
   "cell_type": "code",
   "execution_count": 4,
   "metadata": {},
   "outputs": [],
   "source": [
    "# Initialize an empty list to hold the images\n",
    "frame_array = []\n",
    "\n",
    "for i in range(len(images)):\n",
    "    # Read each image file\n",
    "    img = cv2.imread(os.path.join(image_folder, images[i]))\n",
    "    # Append the image to the list of images\n",
    "    frame_array.append(img)\n",
    "\n",
    "# Get the shape of the images\n",
    "height, width, layers = frame_array[0].shape"
   ]
  },
  {
   "cell_type": "code",
   "execution_count": 5,
   "metadata": {},
   "outputs": [],
   "source": [
    "# Initialize a second empty list to hold the images from the second directory\n",
    "frame_array2 = []\n",
    "\n",
    "for i in range(len(images2)):\n",
    "    # Read each image file\n",
    "    img = cv2.imread(os.path.join(image_folder2, images2[i]))\n",
    "    img = cv2.resize(img, (width, height))\n",
    "    # Append the image to the second list of images\n",
    "    frame_array2.append(img)"
   ]
  },
  {
   "cell_type": "code",
   "execution_count": 13,
   "metadata": {},
   "outputs": [],
   "source": [
    "# Concatenate the images horizontally\n",
    "img = cv2.hconcat([frame_array[0], frame_array2[0]])\n",
    "# Get the shape of the concatenated images\n",
    "height, width, layers = img.shape\n",
    "\n",
    "# Define the video writer with 1 FPS so each image lasts for 1 second\n",
    "video = cv2.VideoWriter(video_name, cv2.VideoWriter_fourcc(*'mp4v'), 1, (width,height))\n",
    "\n",
    "# Load text labels\n",
    "# text_labels = np.load('cache/processed_data/BIGMEG1/test_text1b_sub-BIGMEG1.npy')\n",
    "text_labels = np.load('cache/processed_data/BIGMEG1/test_avg_labels1b_sub-BIGMEG1.npy')\n",
    "\n",
    "# Loop through the list of images\n",
    "for i in range(len(frame_array)):\n",
    "    # Concatenate the images horizontally\n",
    "    img = cv2.hconcat([frame_array[i], frame_array2[i]])\n",
    "    \n",
    "    # Define the text and its properties\n",
    "    # text = \"Frame \" + str(i+1)\n",
    "    text = text_labels[i]\n",
    "    font = cv2.FONT_HERSHEY_SIMPLEX\n",
    "    scale = 1\n",
    "    color = (255, 255, 255)  # white color\n",
    "    thickness = 2\n",
    "    position = (10, 50)  # position of the text (x, y)\n",
    "    # Add the text to the image\n",
    "    img = cv2.putText(img, text, position, font, scale, color, thickness, cv2.LINE_AA)\n",
    "\n",
    "    # Write each image to the video writer\n",
    "    video.write(img)\n",
    "\n",
    "# Close the video writer\n",
    "cv2.destroyAllWindows()\n",
    "video.release()"
   ]
  },
  {
   "cell_type": "code",
   "execution_count": null,
   "metadata": {},
   "outputs": [],
   "source": []
  }
 ],
 "metadata": {
  "kernelspec": {
   "display_name": "bm",
   "language": "python",
   "name": "python3"
  },
  "language_info": {
   "codemirror_mode": {
    "name": "ipython",
    "version": 3
   },
   "file_extension": ".py",
   "mimetype": "text/x-python",
   "name": "python",
   "nbconvert_exporter": "python",
   "pygments_lexer": "ipython3",
   "version": "3.12.1"
  }
 },
 "nbformat": 4,
 "nbformat_minor": 2
}
